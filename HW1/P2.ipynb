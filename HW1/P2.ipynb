{
 "cells": [
  {
   "cell_type": "code",
   "execution_count": 10,
   "metadata": {},
   "outputs": [],
   "source": [
    "import numpy as np\n",
    "import matplotlib.pyplot as plt\n",
    "import math\n",
    "# Problem 2.\n",
    "# Linear Basis Function Regression\n",
    "# import data and plot\n",
    "import matplotlib.pyplot as plt\n",
    "import pylab as pl\n",
    "\n",
    "def getData(ifPlotData=True):\n",
    "    # load the fitting data and (optionally) plot out for examination\n",
    "    # return the X and Y as a tuple\n",
    "\n",
    "    data = pl.loadtxt('/Users/becca/GitHub/6.867/code_hw1/P2/curvefittingp2.txt')\n",
    "\n",
    "    X = data[0,:]\n",
    "    Y = data[1,:]\n",
    "\n",
    "    if ifPlotData:\n",
    "        plt.plot(X,Y,'o')\n",
    "        plt.xlabel('x')\n",
    "        plt.ylabel('y')\n",
    "        plt.show()\n",
    "\n",
    "    return (X,Y)"
   ]
  },
  {
   "cell_type": "code",
   "execution_count": 7,
   "metadata": {
    "collapsed": true
   },
   "outputs": [],
   "source": [
    "# define variables\n",
    "X = getData(ifPlotData = False)[0]\n",
    "Y = getData(ifPlotData = False)[1]"
   ]
  },
  {
   "cell_type": "code",
   "execution_count": 29,
   "metadata": {
    "collapsed": true
   },
   "outputs": [],
   "source": [
    "# define polyx function - takes x and degree, returns array of x's up to given degree, including added col of ones\n",
    "def polyx(Xplot, degree):\n",
    "    len = Xplot.shape[1]\n",
    "    if degree in range(0,1):\n",
    "        Xnew = np.ones((len,1))\n",
    "        return Xnew\n",
    "    elif degree in range(1,2):\n",
    "        Xnew = np.hstack((np.ones((len, 1)), Xplot.T))\n",
    "        return Xnew\n",
    "    else:\n",
    "        Xnew = np.hstack((np.ones((len, 1)), Xplot.T))\n",
    "        for i in range(2, degree+1):\n",
    "            Xnew = np.hstack((Xnew, Xplot.T**i))\n",
    "            i += 1\n",
    "            \n",
    "        return Xnew"
   ]
  },
  {
   "cell_type": "code",
   "execution_count": null,
   "metadata": {
    "collapsed": true
   },
   "outputs": [],
   "source": [
    "# 2.1. Polynomial Fit\n",
    "# Note: code for fits is the same, change m only\n",
    "# m = 0\n",
    "m = 0\n",
    "Xplot = np.array(np.linspace(0,1,num = 110)).T[np.newaxis]\n",
    "Yplot = np.dot(polyx(Xplot, m),np.polyfit(X, Y, m).T[::-1])\n",
    "Yactual = np.cos(math.pi*Xplot) + np.cos(2*math.pi*Xplot)\n",
    "\n",
    "#fig = plt.figure(figsize=(5,5), dpi=300)\n",
    "plt.plot(Xplot.T, Yplot, '-')\n",
    "plt.plot(Xplot.T, Yactual.T, '-')\n",
    "plt.plot(X, Y, 'o')\n",
    "plt.plot()\n",
    "plt.title(\"Linear Regression (M = %s)\" %(m))\n",
    "plt.xlabel('x')\n",
    "plt.ylabel('y')\n",
    "plt.xlim([0,1])\n",
    "plt.ylim([-2,3])\n",
    "plt.show()\n",
    "#fig.savefig('2.1 poly %s.jpg' %(m))"
   ]
  },
  {
   "cell_type": "code",
   "execution_count": null,
   "metadata": {
    "collapsed": true
   },
   "outputs": [],
   "source": [
    "# 2.3 Define batch grad descent function for polynomial:\n",
    "def calcCostpoly(X, Y, thetas, m):\n",
    "\tn = X.shape[0] #number of training examples\n",
    "\ttotal_cost = 0\n",
    "\tfor i in xrange(n): \n",
    "\t\tX_i = X[i][np.newaxis]\n",
    "\t\tY_i = Y[i]\n",
    "\t\tadded_cost = sum(np.power((np.dot(polyx(X[np.newaxis], m), thetas) - Y_i), 2))\n",
    "\t\ttotal_cost = total_cost + added_cost\n",
    "\treturn total_cost"
   ]
  },
  {
   "cell_type": "code",
   "execution_count": null,
   "metadata": {
    "collapsed": true
   },
   "outputs": [],
   "source": [
    "# define polyx function - takes x and degree, returns array of x's up to given degree, including added col of ones\n",
    "def polyxsgd(Xplot, degree):\n",
    "    if degree in range(0,1):\n",
    "        Xnew = 1\n",
    "        return Xnew\n",
    "    elif degree in range(1,2):\n",
    "        Xnew = np.hstack((1, Xplot))\n",
    "        return Xnew\n",
    "    else:\n",
    "        Xnew = np.hstack((1, Xplot))\n",
    "        for i in range(2, degree+1):\n",
    "            Xnew = np.hstack((Xnew, Xplot**i))\n",
    "            \n",
    "        return Xnew"
   ]
  },
  {
   "cell_type": "code",
   "execution_count": 75,
   "metadata": {},
   "outputs": [],
   "source": [
    "def GDpoly(w, X, Y, m, thresh, alpha):\n",
    "\tn = X.shape[0] #number of training examples\n",
    "\tn_iter = 1000000 # number of iterations  \n",
    "\tthetas = w#(w+20)[np.newaxis].T# initial guesses\n",
    "\tprev_cost = calcCostpoly(X,Y,thetas, m) #initial cost before SGD begins\n",
    "\t#print \"Initial Cost: %0.3f\" %prev_cost\n",
    "\tfor iteration in xrange(n_iter): #for each iteration\n",
    "\t\tgrad = np.dot(polyx(X[np.newaxis], m).T,(Y - np.dot(polyx(X[np.newaxis], m), thetas)))\n",
    "  \t\tthetas = thetas + (alpha*grad) \n",
    "  \t\tcurr_cost = calcCostpoly(X, Y, thetas, m)\n",
    "  \t\t#print (\"cost: %0.3f\" %curr_cost)\n",
    "  \t\t#print thetas\n",
    "  \t\tif abs(curr_cost - prev_cost) <= thresh:\n",
    "  \t\t\tprint('SUCCESS')\n",
    "  \t\t\treturn (iteration, (iteration+1)*n, curr_cost, thetas)\n",
    "  \t\tprev_cost = curr_cost\n",
    "\tprint(\"Did Not Converge\")\n",
    "\treturn (iteration, (iteration+1)*n, curr_cost, thetas)"
   ]
  },
  {
   "cell_type": "code",
   "execution_count": 40,
   "metadata": {},
   "outputs": [
    {
     "data": {
      "text/plain": [
       "array([  1.50435220e-14,   6.03683770e-15,   2.49800181e-15,\n",
       "         7.21644966e-16])"
      ]
     },
     "execution_count": 40,
     "metadata": {},
     "output_type": "execute_result"
    }
   ],
   "source": [
    "#grad = np.dot(X.T,(Y[np.newaxis].T- np.dot(X, thetas)))\n",
    "m = 3\n",
    "w=np.polyfit(X, Y, m)[::-1]\n",
    "np.dot(polyx(X[np.newaxis], m), w).shape\n",
    "Y.shape\n",
    "np.dot(polyx(X[np.newaxis], m).T,(Y - np.dot(polyx(X[np.newaxis], m), w)))"
   ]
  },
  {
   "cell_type": "code",
   "execution_count": 77,
   "metadata": {},
   "outputs": [
    {
     "name": "stdout",
     "output_type": "stream",
     "text": [
      "SUCCESS\n"
     ]
    },
    {
     "data": {
      "text/plain": [
       "(6459, 71060, 187.89582635215845, array([ 0.90411133, -1.81019301]))"
      ]
     },
     "execution_count": 77,
     "metadata": {},
     "output_type": "execute_result"
    }
   ],
   "source": [
    "#works\n",
    "m = 1\n",
    "iterations1 = []\n",
    "w=np.polyfit(X, Y, m)[::-1]\n",
    "\n",
    "GDpoly(w+2, X, Y, m, 1e-4, 1e-3)"
   ]
  },
  {
   "cell_type": "code",
   "execution_count": 82,
   "metadata": {
    "collapsed": true
   },
   "outputs": [],
   "source": [
    "import random\n",
    "def SGDpoly(w, X, Y, m, thresh, step):\n",
    "    n = X.shape[0] #number of training examples\n",
    "    n_iter = 100000#100000 # number of iterations  \n",
    "    thetas = w#(w+20)[np.newaxis].T# initial guesses\n",
    "    prev_cost = calcCostpoly(X,Y,thetas, m) #initial cost before SGD begins\n",
    "    #print \"Initial Cost: %0.3f\" %prev_cost\n",
    "    total_iter = 0\n",
    "    for iteration in xrange(n_iter): #for each iteration\n",
    "        alpha = ((iteration+1)+step**(-1))**(-0.95) #learning rate #-0.8 \n",
    "        #print \"iteration: %d\" %iteration\n",
    "        train_order = range(n)\n",
    "        random.shuffle(train_order)\n",
    "        for j in xrange(n): #for each training example \n",
    "            i = train_order[j]\n",
    "            X_i = X[i][np.newaxis]\n",
    "            Y_i = Y[i]\n",
    "            temp = 2*(Y_i - np.dot(polyxsgd(X_i, m)[np.newaxis], thetas))\n",
    "            thetas = (thetas.T + (alpha*temp*polyxsgd(X_i, m))).T #\n",
    "            total_iter += 1\n",
    "\n",
    "        curr_cost = calcCostpoly(X, Y, thetas, m)\n",
    "        #print \"cost: %0.3f\" %curr_cost\n",
    "        #if np.power((sum((Y - np.ndarray.flatten(np.dot(X, thetas)))))**2, 0.5) <= thresh:\n",
    "        if abs(curr_cost - prev_cost) <= thresh:\n",
    "            print('SUCCESS')\n",
    "            return (iteration, total_iter, curr_cost, thetas)\n",
    "        prev_cost = curr_cost\n",
    "    print(\"Did Not Converge\")\n",
    "    return (iteration, total_iter, curr_cost, thetas)"
   ]
  },
  {
   "cell_type": "code",
   "execution_count": 251,
   "metadata": {},
   "outputs": [
    {
     "name": "stdout",
     "output_type": "stream",
     "text": [
      "SUCCESS\n",
      "SUCCESS\n",
      "SUCCESS\n",
      "SUCCESS\n",
      "SUCCESS\n",
      "SUCCESS\n",
      "SUCCESS\n",
      "SUCCESS\n",
      "SUCCESS\n",
      "SUCCESS\n",
      "SUCCESS\n",
      "SUCCESS\n",
      "SUCCESS\n",
      "SUCCESS\n",
      "SUCCESS\n"
     ]
    }
   ],
   "source": [
    "# SGD\n",
    "# generate data for var init wts:\n",
    "m = 1\n",
    "iterations1 = []\n",
    "w=np.polyfit(X, Y, m)[::-1]\n",
    "for i in [1, 10, 30, 60, 100]:\n",
    "    iterations1.append(SGDpoly(w+i, X, Y, m, 0.5, 0.1)[1])\n",
    "m = 3\n",
    "iterations3 = []\n",
    "w=np.polyfit(X, Y, m)[::-1]\n",
    "for i in [1, 10, 30, 60, 100]:\n",
    "    iterations3.append(SGDpoly(w+i, X, Y, m, 0.5, 0.1)[1])\n",
    "m = 6\n",
    "iterations6 = []\n",
    "w=np.polyfit(X, Y, m)[::-1]\n",
    "for i in [1, 10, 30, 60, 100]:\n",
    "    iterations6.append(SGDpoly(w+i, X, Y, m, 0.5, 0.1)[1])"
   ]
  },
  {
   "cell_type": "code",
   "execution_count": 399,
   "metadata": {},
   "outputs": [
    {
     "data": {
      "image/png": "[encoded data removed]",
      "text/plain": [
       "<matplotlib.figure.Figure at 0x114b0b310>"
      ]
     },
     "metadata": {},
     "output_type": "display_data"
    }
   ],
   "source": [
    "plt.rcParams.update({'font.size': 15})\n",
    "\n",
    "# SGD - plot var init weights\n",
    "x = [1, 10, 30, 60, 100]\n",
    "\n",
    "#fig = plt.figure(figsize=(5,5), dpi=300)\n",
    "plt.plot((x), np.log10(iterations1), 'o-', label = '1')\n",
    "plt.plot((x), np.log10(iterations3), 'o-', label = '3')\n",
    "plt.plot((x), np.log10(iterations6), 'o-', label = '6')\n",
    "plt.ylim(1.6, 4)\n",
    "plt.xlabel('Initial Guess - Actual Weights')\n",
    "plt.ylabel('log(Iterations)')\n",
    "plt.legend(loc='upper left', title = 'm')\n",
    "plt.title('Stochastic Gradient Descent')\n",
    "plt.show()\n",
    "#fig.savefig('var_init_wts_sgd.jpg', bbox_inches='tight')"
   ]
  },
  {
   "cell_type": "code",
   "execution_count": 253,
   "metadata": {},
   "outputs": [
    {
     "name": "stdout",
     "output_type": "stream",
     "text": [
      "SUCCESS\n",
      "SUCCESS\n",
      "SUCCESS\n",
      "SUCCESS\n",
      "SUCCESS\n",
      "SUCCESS\n",
      "SUCCESS\n",
      "SUCCESS\n",
      "SUCCESS\n",
      "SUCCESS\n",
      "SUCCESS\n",
      "SUCCESS\n",
      "SUCCESS\n",
      "SUCCESS\n",
      "SUCCESS\n"
     ]
    }
   ],
   "source": [
    "# Batch\n",
    "# generate data for var init wts:\n",
    "m = 1\n",
    "iterations1b = []\n",
    "w=np.polyfit(X, Y, m)[::-1]\n",
    "for i in [1, 10, 30, 60, 100]:\n",
    "    iterations1b.append(GDpoly(w+i, X, Y, m, 0.5, 0.1)[1])\n",
    "m = 3\n",
    "iterations3b = []\n",
    "w=np.polyfit(X, Y, m)[::-1]\n",
    "for i in [1, 10, 30, 60, 100]:\n",
    "    iterations3b.append(GDpoly(w+i, X, Y, m, 0.5, 0.1)[1])\n",
    "m = 6\n",
    "iterations6b = []\n",
    "w=np.polyfit(X, Y, m)[::-1]\n",
    "for i in [1, 10, 30, 60, 100]:\n",
    "    iterations6b.append(GDpoly(w+i, X, Y, m, 0.5, 0.1)[1])"
   ]
  },
  {
   "cell_type": "code",
   "execution_count": 396,
   "metadata": {
    "collapsed": true
   },
   "outputs": [],
   "source": [
    "plt.rcParams.update({'font.size': 15})\n",
    "\n",
    "# plot var init weights batch\n",
    "x = [1, 10, 30, 60, 100]\n",
    "\n",
    "fig = plt.figure(figsize=(5,5), dpi=300)\n",
    "plt.plot((x), np.log10(iterations1b), 'o-', label = '1')\n",
    "plt.plot((x),np.log10(iterations3b), 'o-', label = '3')\n",
    "plt.plot((x), np.log10(iterations6b), 'o-', label = '6')\n",
    "plt.ylim(1.6, 4)\n",
    "plt.xlabel('Initial Guess - Actual Weights')\n",
    "plt.ylabel('log(Iterations)')\n",
    "plt.legend(loc='upper left', title = 'm')\n",
    "plt.title('Batch Gradient Descent')\n",
    "fig.savefig('var_init_wts_batch_corr.jpg', bbox_inches='tight')"
   ]
  },
  {
   "cell_type": "code",
   "execution_count": 259,
   "metadata": {},
   "outputs": [
    {
     "data": {
      "image/png": "[encoded data removed]",
      "text/plain": [
       "<matplotlib.figure.Figure at 0x114da15d0>"
      ]
     },
     "metadata": {},
     "output_type": "display_data"
    }
   ],
   "source": [
    "#notes SGD easier convergence, less sensitive to poly degree"
   ]
  },
  {
   "cell_type": "code",
   "execution_count": 273,
   "metadata": {},
   "outputs": [
    {
     "name": "stdout",
     "output_type": "stream",
     "text": [
      "SUCCESS\n",
      "SUCCESS\n",
      "SUCCESS\n",
      "SUCCESS\n",
      "SUCCESS\n",
      "SUCCESS\n",
      "SUCCESS\n",
      "SUCCESS\n",
      "SUCCESS\n",
      "SUCCESS\n",
      "SUCCESS\n",
      "SUCCESS\n"
     ]
    }
   ],
   "source": [
    "# SGD: generate data for var step size:\n",
    "m = 1\n",
    "iterations1ss = []\n",
    "w=np.polyfit(X, Y, m)[::-1]\n",
    "for i in [1e-4, 1e-3, 1e-2, 1e-1]:\n",
    "    iterations1ss.append(SGDpoly(w+1, X, Y, m, 0.5, i)[1])\n",
    "m = 3\n",
    "iterations3ss = []\n",
    "w=np.polyfit(X, Y, m)[::-1]\n",
    "for i in [1e-4, 1e-3, 1e-2, 1e-1]:\n",
    "    iterations3ss.append(SGDpoly(w+1, X, Y, m, 0.5, i)[1])\n",
    "m = 6\n",
    "iterations6ss = []\n",
    "w=np.polyfit(X, Y, m)[::-1]\n",
    "for i in [1e-4, 1e-3, 1e-2, 1e-1]:\n",
    "    iterations6ss.append(SGDpoly(w+1, X, Y, m, 0.5, i)[1])"
   ]
  },
  {
   "cell_type": "code",
   "execution_count": 400,
   "metadata": {},
   "outputs": [],
   "source": [
    "plt.rcParams.update({'font.size': 15})\n",
    "\n",
    "# SGD: plot var step size\n",
    "x = [1e-4, 1e-3, 1e-2, 1e-1]\n",
    "\n",
    "fig = plt.figure(figsize=(5,5), dpi=300)\n",
    "plt.plot(np.log10(x), np.log10(iterations1ss), 'o-', label = '1')\n",
    "plt.plot(np.log10(x), np.log10(iterations3ss), 'o-', label = '3')\n",
    "plt.plot(np.log10(x), np.log10(iterations6ss), 'o-', label = '6')\n",
    "plt.ylim(1.5, 4)\n",
    "plt.xlabel('log(Step Size)')\n",
    "plt.ylabel('Log(Iterations)')\n",
    "plt.legend(loc='upper left', title = 'm')\n",
    "plt.title('Stochastic Gradient Descent')\n",
    "fig.savefig('var_step size sgd.jpg', bbox_inches='tight')"
   ]
  },
  {
   "cell_type": "code",
   "execution_count": 276,
   "metadata": {},
   "outputs": [
    {
     "name": "stdout",
     "output_type": "stream",
     "text": [
      "SUCCESS\n",
      "SUCCESS\n",
      "SUCCESS\n",
      "SUCCESS\n",
      "SUCCESS\n",
      "SUCCESS\n",
      "SUCCESS\n",
      "SUCCESS\n",
      "SUCCESS\n",
      "SUCCESS\n",
      "SUCCESS\n",
      "SUCCESS\n"
     ]
    }
   ],
   "source": [
    "# Batch: generate data for var step size:\n",
    "m = 1\n",
    "iterations1ssb = []\n",
    "w=np.polyfit(X, Y, m)[::-1]\n",
    "for i in [1e-4, 1e-3, 1e-2, 1e-1]:\n",
    "    iterations1ssb.append(GDpoly(w+1, X, Y, m, 0.5, i)[1])\n",
    "m = 3\n",
    "iterations3ssb = []\n",
    "w=np.polyfit(X, Y, m)[::-1]\n",
    "for i in [1e-4, 1e-3, 1e-2, 1e-1]:\n",
    "    iterations3ssb.append(GDpoly(w+1, X, Y, m, 0.5, i)[1])\n",
    "m = 6\n",
    "iterations6ssb = []\n",
    "w=np.polyfit(X, Y, m)[::-1]\n",
    "for i in [1e-4, 1e-3, 1e-2, 1e-1]:\n",
    "    iterations6ssb.append(GDpoly(w+1, X, Y, m, 0.5, i)[1])"
   ]
  },
  {
   "cell_type": "code",
   "execution_count": 401,
   "metadata": {},
   "outputs": [],
   "source": [
    "plt.rcParams.update({'font.size': 15})\n",
    "\n",
    "# Batch: plot var step size\n",
    "x = [1e-4, 1e-3, 1e-2, 1e-1]\n",
    "\n",
    "fig = plt.figure(figsize=(5,5), dpi=300)\n",
    "plt.plot(np.log10(x), np.log10(iterations1ssb), 'o-', label = '1')\n",
    "plt.plot(np.log10(x), np.log10(iterations3ssb), 'o-', label = '3')\n",
    "plt.plot(np.log10(x), np.log10(iterations6ssb), 'o-', label = '6')\n",
    "plt.ylim(1.5, 4)\n",
    "plt.xlabel('log(Step Size)')\n",
    "plt.ylabel('Log(Iterations)')\n",
    "plt.legend(loc='upper left', title = 'm')\n",
    "plt.title('Batch Gradient Descent')\n",
    "fig.savefig('corr var_step size batch.jpg', bbox_inches='tight')"
   ]
  },
  {
   "cell_type": "code",
   "execution_count": null,
   "metadata": {
    "collapsed": true
   },
   "outputs": [],
   "source": [
    "# notes: SGD does have U shape but not until higher step size - having an overshoot seems to hurt batch more, prob bc sgd is also lowering its step size with iterations\n",
    "# SGD usually lower iterations than batch"
   ]
  },
  {
   "cell_type": "code",
   "execution_count": 383,
   "metadata": {},
   "outputs": [
    {
     "name": "stdout",
     "output_type": "stream",
     "text": [
      "SUCCESS\n",
      "SUCCESS\n",
      "SUCCESS\n",
      "SUCCESS\n",
      "SUCCESS\n",
      "SUCCESS\n",
      "SUCCESS\n",
      "SUCCESS\n",
      "SUCCESS\n",
      "SUCCESS\n",
      "SUCCESS\n",
      "SUCCESS\n",
      "SUCCESS\n",
      "SUCCESS\n",
      "SUCCESS\n",
      "SUCCESS\n",
      "SUCCESS\n",
      "SUCCESS\n",
      "SUCCESS\n",
      "SUCCESS\n",
      "SUCCESS\n",
      "SUCCESS\n",
      "SUCCESS\n",
      "SUCCESS\n"
     ]
    }
   ],
   "source": [
    "# SGD: generate data for var convergence crit:\n",
    "m = 1\n",
    "iterations1cc = []\n",
    "west = []\n",
    "avgdeltaw1 = []\n",
    "w=np.polyfit(X, Y, m)[::-1]\n",
    "for i in [1e-3, 1e-2, 1e-1, 1]:\n",
    "    iterations1cc.append(SGDpoly(w+1, X, Y, m, i, 0.1)[1])\n",
    "    west.append(SGDpoly(w+1, X, Y, m, i, 0.1)[3])\n",
    "    avgdeltaw1.append(np.mean(abs(west-w)))\n",
    "\n",
    "m = 3\n",
    "iterations3cc = []\n",
    "west = []\n",
    "avgdeltaw3 = []\n",
    "w=np.polyfit(X, Y, m)[::-1]\n",
    "for i in [1e-3, 1e-2, 1e-1, 1]:\n",
    "    iterations3cc.append(SGDpoly(w+1, X, Y, m, i, 0.1)[1])\n",
    "    west.append(SGDpoly(w+1, X, Y, m, i, 0.1)[3])\n",
    "    avgdeltaw3.append(np.mean(abs(west-w)))\n",
    "\n",
    "m = 6\n",
    "iterations6cc = []\n",
    "west = []\n",
    "avgdeltaw6 = []\n",
    "w=np.polyfit(X, Y, m)[::-1]\n",
    "for i in [1e-3, 1e-2, 1e-1, 1]:\n",
    "    iterations6cc.append(SGDpoly(w+1, X, Y, m, i, 0.1)[1])\n",
    "    west.append(SGDpoly(w+1, X, Y, m, i, 0.1)[3])\n",
    "    avgdeltaw6.append(np.mean(abs(west-w)))"
   ]
  },
  {
   "cell_type": "code",
   "execution_count": 402,
   "metadata": {},
   "outputs": [],
   "source": [
    "plt.rcParams.update({'font.size': 15})\n",
    "\n",
    "# SGD: plot var convergence crit:\n",
    "x = [1e-3, 1e-2, 1e-1, 1]\n",
    "\n",
    "fig = plt.figure(figsize=(5,5), dpi=300)\n",
    "plt.plot(np.log10(x), (iterations1cc), 'ro-', label = '1')\n",
    "plt.plot(np.log10(x), (iterations3cc), 'go-', label = '3')\n",
    "plt.plot(np.log10(x), (iterations6cc), 'bo-', label = '6')\n",
    "plt.xlabel('log(Convergence Criterion)')\n",
    "plt.ylabel('Iterations')\n",
    "plt.legend(loc='upper left', title = 'm')\n",
    "plt.title('Stochastic Gradient Descent')\n",
    "plt.ylim(0, 8200)\n",
    "fig.savefig('var_cc_iter_sgd.jpg', bbox_inches='tight')"
   ]
  },
  {
   "cell_type": "code",
   "execution_count": 386,
   "metadata": {},
   "outputs": [
    {
     "name": "stdout",
     "output_type": "stream",
     "text": [
      "SUCCESS\n",
      "SUCCESS\n",
      "SUCCESS\n",
      "SUCCESS\n",
      "SUCCESS\n",
      "SUCCESS\n",
      "SUCCESS\n",
      "SUCCESS\n",
      "SUCCESS\n",
      "SUCCESS\n",
      "SUCCESS\n",
      "SUCCESS\n",
      "SUCCESS\n",
      "SUCCESS\n",
      "SUCCESS\n",
      "SUCCESS\n",
      "SUCCESS\n",
      "SUCCESS\n",
      "SUCCESS\n",
      "SUCCESS\n",
      "SUCCESS\n",
      "SUCCESS\n",
      "SUCCESS\n",
      "SUCCESS\n"
     ]
    }
   ],
   "source": [
    "# Batch: generate data for var convergence crit:\n",
    "m = 1\n",
    "iterations1ccb = []\n",
    "west = []\n",
    "avgdeltaw1b = []\n",
    "w=np.polyfit(X, Y, m)[::-1]\n",
    "for i in [1e-3, 1e-2, 1e-1, 1]:\n",
    "    iterations1ccb.append(GDpoly(w+1, X, Y, m, i, 0.1)[1])\n",
    "    west.append(GDpoly(w+1, X, Y, m, i, 0.1)[3])\n",
    "    avgdeltaw1b.append(np.mean(abs(west-w)))\n",
    "\n",
    "m = 3\n",
    "iterations3ccb = []\n",
    "avgdeltaw3b  = []\n",
    "west = []\n",
    "w=np.polyfit(X, Y, m)[::-1]\n",
    "for i in [1e-3, 1e-2, 1e-1, 1]:\n",
    "    iterations3ccb.append(SGDpoly(w+1, X, Y, m, i, 0.1)[1])\n",
    "    west.append(GDpoly(w+1, X, Y, m, i, 0.1)[3])\n",
    "    avgdeltaw3b.append(np.mean(abs(west-w)))\n",
    "\n",
    "m = 6\n",
    "iterations6ccb = []\n",
    "avgdeltaw6b = []\n",
    "west = []\n",
    "w=np.polyfit(X, Y, m)[::-1]\n",
    "for i in [1e-3, 1e-2, 1e-1, 1]:\n",
    "    iterations6ccb.append(GDpoly(w+1, X, Y, m, i, 0.1)[1])\n",
    "    west.append(GDpoly(w+1, X, Y, m, i, 0.1)[3])\n",
    "    avgdeltaw6b.append(np.mean(abs(west-w)))"
   ]
  },
  {
   "cell_type": "code",
   "execution_count": 403,
   "metadata": {},
   "outputs": [],
   "source": [
    "plt.rcParams.update({'font.size': 15})\n",
    "\n",
    "# Batch: plot var convergence crit:\n",
    "x = [1e-3, 1e-2, 1e-1, 1]\n",
    "\n",
    "fig = plt.figure(figsize=(5,5), dpi=300)\n",
    "plt.plot(np.log10(x), (iterations1ccb), 'ro-', label = '1')\n",
    "plt.plot(np.log10(x), (iterations3ccb), 'go-', label = '3')\n",
    "plt.plot(np.log10(x), (iterations6ccb), 'bo-', label = '6')\n",
    "plt.xlabel('log(Convergence Criterion)')\n",
    "plt.ylabel('Iterations')\n",
    "plt.legend(loc='upper left', title = 'm')\n",
    "plt.title('Batch Gradient Descent')\n",
    "plt.ylim(0, 8200)\n",
    "fig.savefig('var_cc_iter_batch.jpg', bbox_inches='tight')"
   ]
  },
  {
   "cell_type": "code",
   "execution_count": 404,
   "metadata": {},
   "outputs": [],
   "source": [
    "plt.rcParams.update({'font.size': 15})\n",
    "\n",
    "# SGD: plot var convergence error:\n",
    "x = [1e-4, 1e-3, 1e-2, 1e-1]\n",
    "\n",
    "fig = plt.figure(figsize=(5,5), dpi=300)\n",
    "plt.plot(np.log10(x), np.log10(avgdeltaw1), 'ro--', label = '1')\n",
    "plt.plot(np.log10(x), np.log10(avgdeltaw3), 'go--', label = '3')\n",
    "plt.plot(np.log10(x), np.log10(avgdeltaw6), 'bo--', label = '6')\n",
    "\n",
    "plt.xlabel('log(Convergence Criterion)')\n",
    "plt.ylabel('log(Average Weight Error)')\n",
    "plt.title('Stochastic Gradient Descent')\n",
    "plt.legend(loc='upper left', title = 'm')\n",
    "plt.ylim(-3.9, -1.2)\n",
    "fig.savefig('var_cc_error_sgd.jpg', bbox_inches='tight')"
   ]
  },
  {
   "cell_type": "code",
   "execution_count": 405,
   "metadata": {
    "collapsed": true
   },
   "outputs": [],
   "source": [
    "plt.rcParams.update({'font.size': 15})\n",
    "\n",
    "# Batch: plot var convergence error:\n",
    "x = [1e-4, 1e-3, 1e-2, 1e-1]\n",
    "\n",
    "fig = plt.figure(figsize=(5,5), dpi=300)\n",
    "plt.plot(np.log10(x), np.log10(avgdeltaw1b), 'ro--', label = '1')\n",
    "plt.plot(np.log10(x), np.log10(avgdeltaw3b), 'go--', label = '3')\n",
    "plt.plot(np.log10(x), np.log10(avgdeltaw6b), 'bo--', label = '6')\n",
    "\n",
    "plt.xlabel('log(Convergence Criterion)')\n",
    "plt.ylabel('log(Average Weight Error)')\n",
    "plt.title('Batch Gradient Descent')\n",
    "plt.legend(loc='upper left', title = 'm')\n",
    "plt.ylim(-3.9, -1.2)\n",
    "fig.savefig('var_cc_error_batch.jpg', bbox_inches='tight')"
   ]
  },
  {
   "cell_type": "code",
   "execution_count": 395,
   "metadata": {},
   "outputs": [
    {
     "data": {
      "image/png": "[encoded data removed]",
      "text/plain": [
       "<matplotlib.figure.Figure at 0x110c50dd0>"
      ]
     },
     "metadata": {},
     "output_type": "display_data"
    }
   ],
   "source": [
    "#note batch error generally smaller than sgd"
   ]
  }
 ],
 "metadata": {
  "kernelspec": {
   "display_name": "Python 2",
   "language": "python",
   "name": "python2"
  },
  "language_info": {
   "codemirror_mode": {
    "name": "ipython",
    "version": 2
   },
   "file_extension": ".py",
   "mimetype": "text/x-python",
   "name": "python",
   "nbconvert_exporter": "python",
   "pygments_lexer": "ipython2",
   "version": "2.7.13"
  }
 },
 "nbformat": 4,
 "nbformat_minor": 2
}
