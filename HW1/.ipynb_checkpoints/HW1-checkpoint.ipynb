{
 "cells": [
  {
   "cell_type": "code",
   "execution_count": 2,
   "metadata": {
    "collapsed": true
   },
   "outputs": [],
   "source": [
    "# 1. Grad Descent\n",
    "import numpy as np\n",
    "import matplotlib.pyplot as plt\n",
    "from numpy.linalg import inv\n",
    "import math"
   ]
  },
  {
   "cell_type": "code",
   "execution_count": 3,
   "metadata": {
    "collapsed": true
   },
   "outputs": [],
   "source": [
    "def grad_descent(x_init, alpha, thresh, f, f_prime):\n",
    "    iter = 1\n",
    "    prev = x_init\n",
    "    next = x_init - alpha*f_prime(prev)\n",
    "    \n",
    "    while(sum(abs(prev-next)) >= thresh):\n",
    "        prev = next\n",
    "        next = prev - alpha*f_prime(prev)\n",
    "        iter += 1\n",
    "        \n",
    "    return np.append(next, f(next))\n",
    "    #print \"Iterations = \", iter"
   ]
  },
  {
   "cell_type": "code",
   "execution_count": 427,
   "metadata": {},
   "outputs": [
    {
     "data": {
      "text/plain": [
       "array([  0.       , -42.0266133])"
      ]
     },
     "execution_count": 427,
     "metadata": {},
     "output_type": "execute_result"
    }
   ],
   "source": [
    "# testing grad desc code\n",
    "x_init = x\n",
    "prev = x_init\n",
    "#a = np.reshape(f_prime(prev), 4)[0]\n",
    "#b = np.reshape(f_prime(prev), 4)[3]\n",
    "alpha = .1\n",
    "next = x_init - alpha*f_prime(prev)\n",
    "#sum(abs(prev-next))\n",
    "next\n",
    "sum(abs(prev-next))\n",
    "f_prime(next)"
   ]
  },
  {
   "cell_type": "code",
   "execution_count": 4,
   "metadata": {},
   "outputs": [
    {
     "data": {
      "text/plain": [
       "array([ 0.22870526,  0.25157579,  1.0523061 ,  1.06329038])"
      ]
     },
     "execution_count": 4,
     "metadata": {},
     "output_type": "execute_result"
    }
   ],
   "source": [
    "x_init = np.array([10, 11])\n",
    "grad_descent(x_init, 0.01, 0.01, f, f_prime)"
   ]
  },
  {
   "cell_type": "code",
   "execution_count": 6,
   "metadata": {
    "collapsed": true
   },
   "outputs": [],
   "source": [
    "import pylab as pl\n",
    "\n",
    "def getData():\n",
    "\n",
    "    # load the parameters for the negative Gaussian function and quadratic bowl function\n",
    "    # return a tuple that contains parameters for Gaussian mean, Gaussian covariance,\n",
    "    # A and b for quadratic bowl in order\n",
    "\n",
    "    data = pl.loadtxt('/Users/becca/Documents/Google Drive/Dropbox/Grad School/ML/code_hw1/P1/parametersp1.txt')\n",
    "\n",
    "    gaussMean = data[0,:]\n",
    "    gaussCov = data[1:3,:]\n",
    "\n",
    "    quadBowlA = data[3:5,:]\n",
    "    quadBowlb = data[5,:]\n",
    "\n",
    "    return (gaussMean,gaussCov,quadBowlA,quadBowlb) "
   ]
  },
  {
   "cell_type": "code",
   "execution_count": 7,
   "metadata": {},
   "outputs": [],
   "source": [
    "gaussMean = getData()[0]\n",
    "gaussCov = getData()[1]\n",
    "n = gaussMean.shape[0]\n",
    "quadBowlA = getData()[2]\n",
    "quadBowlB = getData()[3]"
   ]
  },
  {
   "cell_type": "code",
   "execution_count": 8,
   "metadata": {},
   "outputs": [
    {
     "data": {
      "text/plain": [
       "array([ 33.335,  16.67 ])"
      ]
     },
     "execution_count": 8,
     "metadata": {},
     "output_type": "execute_result"
    }
   ],
   "source": [
    "# Quadratic Bowl\n",
    "f = lambda x: 0.5 * np.dot(np.dot(x, quadBowlA), x.T) - np.dot(x, quadBowlB)\n",
    "f_prime = lambda x: np.dot(quadBowlA, x.T) - quadBowlB\n",
    "x = np.array([30, 26.667])\n",
    "f(x)\n",
    "f_prime(x)"
   ]
  },
  {
   "cell_type": "code",
   "execution_count": 9,
   "metadata": {
    "collapsed": true
   },
   "outputs": [],
   "source": [
    "# Gaussian \n",
    "from operator import truediv\n",
    "f = lambda x: -10**4/((2*math.pi)**n*np.linalg.det(gaussCov))**(1/2)*np.exp(-1/2*np.dot(np.dot((x-gaussMean).T,inv(gaussCov)),(x-gaussMean)))\n",
    "f_prime = lambda x: np.dot(np.dot(-f(x), inv(gaussCov)), (x-gaussMean))"
   ]
  },
  {
   "cell_type": "code",
   "execution_count": 11,
   "metadata": {},
   "outputs": [],
   "source": [
    "# 2. Numerical Gradient Evaluation\n",
    "# Gaussian\n",
    "f = lambda x: -10**4/((2*math.pi)**n*np.linalg.det(gaussCov))**(1/2)*np.exp(-1/2*np.dot(np.dot((x-gaussMean).T,inv(gaussCov)),(x-gaussMean)))\n",
    "delta = np.array([1e-10, 1e-10])\n",
    "f_prime = lambda x: np.array([((f(x[0]+delta)-f(x[0]))/delta)[0], ((f(x[1]+delta)-f(x[1]))/delta)[1]])\n",
    "x = np.array([10, 11])\n"
   ]
  },
  {
   "cell_type": "code",
   "execution_count": 20,
   "metadata": {},
   "outputs": [],
   "source": [
    "# 3. Stochastic Gradient Descent\n",
    "def getData():\n",
    "    \n",
    "    # load the fitting data for X and y and return as elements of a tuple\n",
    "    # X is a 100 by 10 matrix and y is a vector of length 100\n",
    "    # Each corresponding row for X and y represents a single data sample\n",
    "\n",
    "    xp1 = pl.loadtxt('/Users/becca/GitHub/6.867/code_hw1/P1/fittingdatap1_x.txt')\n",
    "    yp1 = pl.loadtxt('/Users/becca/GitHub/6.867/code_hw1/P1/fittingdatap1_y.txt')\n",
    "\n",
    "    return (xp1,yp1) \n",
    "\n"
   ]
  },
  {
   "cell_type": "code",
   "execution_count": 43,
   "metadata": {},
   "outputs": [
    {
     "data": {
      "text/plain": [
       "array([  0.5032541 ,  -2.3367948 ,  -6.31670032,   6.81230107,\n",
       "        -1.06337989,   6.67469398,   3.4118044 ,  -0.45573592,\n",
       "       -12.94593466,  15.73289812])"
      ]
     },
     "execution_count": 43,
     "metadata": {},
     "output_type": "execute_result"
    }
   ],
   "source": [
    "xp1 = getData()[0]\n",
    "yp1 = getData()[1]\n",
    "\n",
    "# closed form soln:\n",
    "w = np.dot(np.dot(inv(np.dot(xp1.T, xp1)), xp1.T), yp1)\n",
    "w"
   ]
  },
  {
   "cell_type": "code",
   "execution_count": 157,
   "metadata": {},
   "outputs": [
    {
     "data": {
      "text/plain": [
       "array([  9.36668948e-11,  -3.18711949e-11,  -9.22887588e-11,\n",
       "        -1.64776378e-10,   1.03009487e-10,  -8.93619715e-11,\n",
       "        -6.25343613e-11,  -5.73104542e-11,  -4.17318354e-10,\n",
       "        -5.15504244e-10])"
      ]
     },
     "execution_count": 157,
     "metadata": {},
     "output_type": "execute_result"
    }
   ],
   "source": [
    "# LMS\n",
    "f = lambda w: sum((np.dot(xp1,w)-yp1)**2)\n",
    "f_prime = lambda w: (2*np.dot((np.dot(xp1,w)-yp1), xp1))\n",
    "f_prime(w)"
   ]
  },
  {
   "cell_type": "code",
   "execution_count": 149,
   "metadata": {},
   "outputs": [
    {
     "data": {
      "text/plain": [
       "array([  1.5032541 ,  -1.3367948 ,  -5.31670032,   7.81230107,\n",
       "        -0.06337989,   7.67469398,   4.4118044 ,   0.54426408,\n",
       "       -11.94593466,  16.73289812])"
      ]
     },
     "execution_count": 149,
     "metadata": {},
     "output_type": "execute_result"
    }
   ],
   "source": [
    "w_init = w+1\n",
    "w_init"
   ]
  },
  {
   "cell_type": "code",
   "execution_count": 163,
   "metadata": {},
   "outputs": [],
   "source": [
    "def grad_descent(x_init, alpha, thresh, f, f_prime):\n",
    "    iter = 1\n",
    "    prev = x_init\n",
    "    next = x_init - alpha*f_prime(prev)\n",
    "    \n",
    "    while(sum(abs(f_prime(next)))) >= thresh:\n",
    "        prev = next\n",
    "        next = prev - alpha*f_prime(prev)\n",
    "        iter += 1\n",
    "        \n",
    "    return np.append(next, f(next))\n",
    "    #print \"Iterations = \", iter"
   ]
  },
  {
   "cell_type": "code",
   "execution_count": 171,
   "metadata": {},
   "outputs": [
    {
     "data": {
      "text/plain": [
       "array([  5.03239942e-01,  -2.33675857e+00,  -6.31672875e+00,\n",
       "         6.81230347e+00,  -1.06335617e+00,   6.67473759e+00,\n",
       "         3.41189702e+00,  -4.55730185e-01,  -1.29459496e+01,\n",
       "         1.57328925e+01,   8.33321452e+03])"
      ]
     },
     "execution_count": 171,
     "metadata": {},
     "output_type": "execute_result"
    }
   ],
   "source": [
    "# working now but poor convergence\n",
    "w_init = w+1\n",
    "\n",
    "grad_descent(w_init, 1e-8, 12, f, f_prime)\n"
   ]
  },
  {
   "cell_type": "code",
   "execution_count": 88,
   "metadata": {},
   "outputs": [
    {
     "data": {
      "text/plain": [
       "array([  5.03264271e-01,  -2.33678462e+00,  -6.31669014e+00,\n",
       "         6.81231125e+00,  -1.06336972e+00,   6.67470416e+00,\n",
       "         3.41181458e+00,  -4.55725749e-01,  -1.29459245e+01,\n",
       "         1.57329083e+01,   8.33321426e+03])"
      ]
     },
     "execution_count": 88,
     "metadata": {},
     "output_type": "execute_result"
    }
   ],
   "source": [
    "# Stochastic gradient descent\n",
    "f = lambda w: sum((np.dot(xp1,w)-yp1)**2)\n",
    "f_prime = lambda w: (2*np.dot((np.dot(xp1,w)-yp1), xp1))"
   ]
  }
 ],
 "metadata": {
  "kernelspec": {
   "display_name": "Python 2",
   "language": "python",
   "name": "python2"
  },
  "language_info": {
   "codemirror_mode": {
    "name": "ipython",
    "version": 2
   },
   "file_extension": ".py",
   "mimetype": "text/x-python",
   "name": "python",
   "nbconvert_exporter": "python",
   "pygments_lexer": "ipython2",
   "version": "2.7.13"
  }
 },
 "nbformat": 4,
 "nbformat_minor": 2
}
