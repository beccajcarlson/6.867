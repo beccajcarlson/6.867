{
 "cells": [
  {
   "cell_type": "code",
   "execution_count": null,
   "metadata": {
    "collapsed": true
   },
   "outputs": [],
   "source": [
    "# Problem 4\n",
    "# 4.1\n",
    "import numpy as np\n",
    "import matplotlib.pyplot as plt\n",
    "from numpy.linalg import inv\n",
    "import math\n",
    "from sklearn.linear_model import SGDClassifier\n",
    "import pylab as pl\n",
    "import random\n",
    "import pdb\n",
    "import sklearn as sk"
   ]
  },
  {
   "cell_type": "markdown",
   "metadata": {},
   "source": [
    "For the questions below, you will first need to construct training, validation and test sets. You will do thatby collecting images for some subset of the digits, that will be labeled as +1, and some other subset that willbe labeled as -1.  Take the first 200 points for each digit and use them for training, use the next 150 pointsfor validation and the final 150 points as a test set.  If you are classifying (2,4) vs (3,5), then your trainingset will have 800 samples, your validation and training sets will have 600 samples each. Note that you willconstruct a vector of ones of length 400 and a vector of -1s, also of length 400, and these will be the labelsfor your training set, and so on.Be careful with the sizes of these data sets, you probably don’t wantto use all the samples in the data files.\n",
    "\n",
    "\n",
    "After constructing these data sets, you should also construct corresponding sets that are “normalized”, sothat each input feature (pixel) is in the range [-1, 1]. Because each feature in this dataset has minimum value0 and maximum value 255, you can do this normalization by transforming the wholeXmatrix (element-wise) to2X/255−1.Try (at least) the following pairwise classification tasks: 1 vs 7, 3 vs 5, 4 vs 9, (0, 2, 4, 6, 8) vs (1, 3, 5,7, 9).1.  Show the classification accuracy of your logistic regression from problem 1 and the linear SVM classifierfrom problem 2 on the MNIST data.  Compare and contrast the performance of each classifier (bothtraining  and  testing).   Does  normalization  of  the  data  matter?   Look  at  some  of  the  images  of  mis-classified digits, do they make sense?"
   ]
  },
  {
   "cell_type": "code",
   "execution_count": 102,
   "metadata": {
    "collapsed": true
   },
   "outputs": [],
   "source": [
    "def getData(digit, ind1, ind2):\n",
    "    data = pl.loadtxt('/Users/becca/GitHub/6.867/code_hw2/data/mnist_digit_' + str(digit) + '.csv')\n",
    "    # Returns column matrices\n",
    "    X = data[ind1:ind2]\n",
    "    return X"
   ]
  },
  {
   "cell_type": "code",
   "execution_count": null,
   "metadata": {
    "collapsed": true
   },
   "outputs": [],
   "source": [
    "Xtrain1 = getData(1, 0, 200)\n",
    "Xtrain7 = getData(7, 0, 200)"
   ]
  },
  {
   "cell_type": "code",
   "execution_count": 148,
   "metadata": {
    "collapsed": true
   },
   "outputs": [],
   "source": [
    "# Label data for 1 vs 7\n",
    "Xtrain1_7 = np.concatenate((Xtrain1, Xtrain7), axis = 0)\n",
    "Ytrain1_7 = np.concatenate((np.repeat(-1, len(Xtrain1)), np.repeat(1, len(Xtrain7))), axis = 0)"
   ]
  },
  {
   "cell_type": "code",
   "execution_count": 150,
   "metadata": {},
   "outputs": [
    {
     "data": {
      "text/plain": [
       "(400, 784)"
      ]
     },
     "execution_count": 150,
     "metadata": {},
     "output_type": "execute_result"
    }
   ],
   "source": [
    "Xtrain1_7.shape"
   ]
  },
  {
   "cell_type": "code",
   "execution_count": null,
   "metadata": {
    "collapsed": true
   },
   "outputs": [],
   "source": [
    "lamda = 1e3\n",
    "clfl2 = sk.linear_model.LogisticRegression(penalty = 'l2', tol = 1e-10, C = 1/lamda, \n",
    "                                              fit_intercept = True, random_state = 10, \n",
    "                                         max_iter = 1000)\n",
    "#clfl2.fit(X.T, np.ndarray.flatten(Y).T)\n",
    "#np.array([clfl2.intercept_, clfl2.coef_.T])"
   ]
  },
  {
   "cell_type": "code",
   "execution_count": null,
   "metadata": {
    "collapsed": true
   },
   "outputs": [],
   "source": [
    "clfl2.fit(Xtrain1_7, Ytrain1_7)\n",
    "#np.array([clfl2.intercept_, clfl2.coef_.T])"
   ]
  },
  {
   "cell_type": "code",
   "execution_count": 213,
   "metadata": {
    "collapsed": true
   },
   "outputs": [],
   "source": [
    "Xval1 = getData(1, 200, 350)\n",
    "Xval7 = getData(7, 200, 350)"
   ]
  },
  {
   "cell_type": "code",
   "execution_count": 214,
   "metadata": {
    "collapsed": true
   },
   "outputs": [],
   "source": [
    "# Label val data for 1 vs 7\n",
    "Xval1_7 = np.concatenate((Xval1, Xval7), axis = 0)\n",
    "Yval1_7 = np.concatenate((np.repeat(-1, len(Xval1)), np.repeat(1, len(Xval7))), axis = 0)"
   ]
  },
  {
   "cell_type": "code",
   "execution_count": 215,
   "metadata": {},
   "outputs": [
    {
     "data": {
      "text/plain": [
       "99.0"
      ]
     },
     "execution_count": 215,
     "metadata": {},
     "output_type": "execute_result"
    }
   ],
   "source": [
    "from __future__ import division\n",
    "clfl2.decision_function(Xtrain1_7).shape\n",
    "# Percent Agreement\n",
    "sum(clfl2.predict(Xtrain1_7) == Ytrain1_7)/len(Ytrain1_7)*100.0000 #100%\n",
    "sum(clfl2.predict(Xval1_7) == Yval1_7)/len(Yval1_7)*100.0000 #99%"
   ]
  },
  {
   "cell_type": "code",
   "execution_count": 240,
   "metadata": {},
   "outputs": [
    {
     "data": {
      "image/png": "[encoded data removed]",
      "text/plain": [
       "<matplotlib.figure.Figure at 0x12cfce990>"
      ]
     },
     "metadata": {},
     "output_type": "display_data"
    }
   ],
   "source": [
    "(clfl2.predict(Xval1_7) == Yval1_7)[129] # False\n",
    "# Plot image of misclassified digit..makes sense\n",
    "index = 129\n",
    "a =np.array(Xval1[index]).reshape((28, 28))\n",
    "plt.imshow(a, cmap='hot', interpolation='nearest')\n",
    "plt.show()"
   ]
  },
  {
   "cell_type": "code",
   "execution_count": 242,
   "metadata": {},
   "outputs": [
    {
     "data": {
      "image/png": "[encoded data removed]",
      "text/plain": [
       "<matplotlib.figure.Figure at 0x1189c3150>"
      ]
     },
     "metadata": {},
     "output_type": "display_data"
    }
   ],
   "source": [
    "(clfl2.predict(Xval1_7) == Yval1_7)[227] # False\n",
    "# Plot image of misclassified digit..makes sense\n",
    "index = 227-150\n",
    "a =np.array(Xval7[index]).reshape((28, 28))\n",
    "plt.imshow(a, cmap='hot', interpolation='nearest')\n",
    "plt.show()"
   ]
  },
  {
   "cell_type": "code",
   "execution_count": 241,
   "metadata": {},
   "outputs": [
    {
     "data": {
      "image/png": "[encoded data removed]",
      "text/plain": [
       "<matplotlib.figure.Figure at 0x12f680550>"
      ]
     },
     "metadata": {},
     "output_type": "display_data"
    }
   ],
   "source": [
    "(clfl2.predict(Xval1_7) == Yval1_7)[204] # False\n",
    "# Plot image of misclassified digit..makes sense\n",
    "index = 204-150\n",
    "a =np.array(Xval7[index]).reshape((28, 28))\n",
    "plt.imshow(a, cmap='hot', interpolation='nearest')\n",
    "plt.show()"
   ]
  },
  {
   "cell_type": "code",
   "execution_count": null,
   "metadata": {
    "collapsed": true
   },
   "outputs": [],
   "source": [
    "Xtrain3 = getData(3, 0, 200)\n",
    "Xtrain5 = getData(5, 0, 200)\n",
    "Xval3 = getData(3, 200, 350)\n",
    "Xval5 = getData(5, 200, 350)\n",
    "\n",
    "# Label data for 3 vs 5\n",
    "Xtrain3_5 = np.concatenate((Xtrain3, Xtrain5), axis = 0)\n",
    "Ytrain3_5 = np.concatenate((np.repeat(-1, len(Xtrain3)), np.repeat(1, len(Xtrain5))), axis = 0)\n",
    "\n",
    "# Label val data for 3 vs 5\n",
    "Xval3_5 = np.concatenate((Xval3, Xval5), axis = 0)\n",
    "Yval3_5 = np.concatenate((np.repeat(-1, len(Xval3)), np.repeat(1, len(Xval5))), axis = 0)"
   ]
  },
  {
   "cell_type": "code",
   "execution_count": null,
   "metadata": {
    "collapsed": true
   },
   "outputs": [],
   "source": [
    "lamda = 1e3\n",
    "clfl2 = sk.linear_model.LogisticRegression(penalty = 'l2', tol = 1e-10, C = 1/lamda, \n",
    "                                              fit_intercept = True, random_state = 10, \n",
    "                                         max_iter = 1000)\n",
    "clfl2.fit(Xtrain3_5, Ytrain3_5)\n",
    "\n",
    "# Percent Agreement\n",
    "sum(clfl2.predict(Xtrain3_5) == Ytrain3_5)/len(Ytrain3_5)*100.0000 #100% lam 1e3\n",
    "sum(clfl2.predict(Xval3_5) == Yval3_5)/len(Yval3_5)*100.0000 #94.67% lam 1e3"
   ]
  },
  {
   "cell_type": "code",
   "execution_count": null,
   "metadata": {
    "collapsed": true
   },
   "outputs": [],
   "source": [
    "# Plot image of misclassified digits..makes sense\n",
    "index = 13\n",
    "a =np.array(Xval3[index]).reshape((28, 28))\n",
    "plt.imshow(a, cmap='hot', interpolation='nearest')\n",
    "plt.show()\n",
    "\n",
    "index = 24\n",
    "a =np.array(Xval3[index]).reshape((28, 28))\n",
    "plt.imshow(a, cmap='hot', interpolation='nearest')\n",
    "plt.show()\n",
    "\n",
    "index = 30\n",
    "a =np.array(Xval3[index]).reshape((28, 28))\n",
    "plt.imshow(a, cmap='hot', interpolation='nearest')\n",
    "plt.show()"
   ]
  },
  {
   "cell_type": "code",
   "execution_count": 270,
   "metadata": {},
   "outputs": [
    {
     "data": {
      "image/png": "[encoded data removed]",
      "text/plain": [
       "<matplotlib.figure.Figure at 0x12d297890>"
      ]
     },
     "metadata": {},
     "output_type": "display_data"
    },
    {
     "data": {
      "image/png": "[encoded data removed]",
      "text/plain": [
       "<matplotlib.figure.Figure at 0x12cfc8c50>"
      ]
     },
     "metadata": {},
     "output_type": "display_data"
    },
    {
     "data": {
      "image/png": "[encoded data removed]",
      "text/plain": [
       "<matplotlib.figure.Figure at 0x12f5cb450>"
      ]
     },
     "metadata": {},
     "output_type": "display_data"
    }
   ],
   "source": []
  }
 ],
 "metadata": {
  "kernelspec": {
   "display_name": "Python 2",
   "language": "python",
   "name": "python2"
  },
  "language_info": {
   "codemirror_mode": {
    "name": "ipython",
    "version": 2
   },
   "file_extension": ".py",
   "mimetype": "text/x-python",
   "name": "python",
   "nbconvert_exporter": "python",
   "pygments_lexer": "ipython2",
   "version": "2.7.13"
  }
 },
 "nbformat": 4,
 "nbformat_minor": 2
}
